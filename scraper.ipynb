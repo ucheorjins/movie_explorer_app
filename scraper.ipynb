{
 "cells": [
  {
   "cell_type": "code",
   "execution_count": null,
   "metadata": {},
   "outputs": [],
   "source": [
    "%pip install requests beautifulsoup4 pandas lxml IMDbPY"
   ]
  },
  {
   "cell_type": "code",
   "execution_count": 42,
   "metadata": {},
   "outputs": [
    {
     "name": "stdout",
     "output_type": "stream",
     "text": [
      "               title  year RT rating\n",
      "0      The Godfather  1972       97%\n",
      "1         Casablanca  1942       99%\n",
      "2  L.A. Confidential  1997       99%\n",
      "3      Seven Samurai  1954      100%\n",
      "4           Parasite  2019       99%\n"
     ]
    }
   ],
   "source": [
    "\n",
    "#imports\n",
    "import requests\n",
    "from bs4 import BeautifulSoup\n",
    "from imdb import IMDb\n",
    "import pandas as pd\n",
    "import time\n",
    "\n",
    "#Scrapping: getting RT editoral URL content and feeding it to BS\n",
    "url = 'https://editorial.rottentomatoes.com/guide/best-movies-of-all-time/'\n",
    "response = requests.get(url)\n",
    "soup = BeautifulSoup(response.content, 'lxml')\n",
    "\n",
    "#empty list to store movie info\n",
    "movies = []\n",
    "\n",
    "#Targeting all table of RT page (this is where the movie information is)\n",
    "tables = soup.find_all('table', class_='aligncenter')\n",
    "#print(tables)\n",
    "\n",
    "#iterate through all tables\n",
    "for table in tables:\n",
    "  rows = table.find_all('tr')\n",
    "  for row in rows:\n",
    "    try:\n",
    "      title = row.find('a', class_='title').text.strip()\n",
    "      year = row.find('span', class_='year').text.strip().strip('()')\n",
    "      rt_rating = row.find('span', class_='score').text.strip()\n",
    "      \n",
    "      movies.append({'title':title,'year':year,'RT rating':rt_rating})\n",
    "      \n",
    "    except Exception:\n",
    "      continue\n",
    "\n",
    "\n",
    "#Turn the movie dict stored in the movies list data frame (table)\n",
    "df = pd.DataFrame(movies)\n",
    "print(df.head())\n",
    "\n",
    "\n",
    "\n",
    "\n",
    "\n",
    "\n",
    "\n",
    "\n"
   ]
  },
  {
   "cell_type": "code",
   "execution_count": null,
   "metadata": {},
   "outputs": [],
   "source": [
    "import time\n",
    "\n",
    "#Instance of IMDb\n",
    "im = IMDb()\n",
    "\n",
    "#new columns to the table\n",
    "df['genres'] = ''\n",
    "df['plot'] = ''\n",
    "\n",
    "\n",
    "#Enriching df table with more information\n",
    "for idx, row in df.iterrows():\n",
    "  title = row['title']\n",
    "  year = row['year']\n",
    "  \n",
    "  try:\n",
    "    results = im.search_movie(title)\n",
    "    if results:\n",
    "      movie = results[0]\n",
    "      im.update(movie)\n",
    "      \n",
    "      df.at[idx, 'genres'] = ','.join(movie.get('genres', []))\n",
    "      df.at[idx, 'plot'] = movie.get('plot', [''])[0]\n",
    "      \n",
    "      print(f'{title} enriched')\n",
    "    else:\n",
    "      print(f'No match for {title}')\n",
    "      \n",
    "    time.sleep(0.5)\n",
    "    \n",
    "  except Exception as e:\n",
    "    print(f'Error for {title}: {e}')\n",
    "    \n",
    "    continue\n",
    "      \n",
    "      \n",
    "      \n",
    "      \n",
    "  "
   ]
  },
  {
   "cell_type": "code",
   "execution_count": null,
   "metadata": {},
   "outputs": [],
   "source": [
    "\n",
    "print(df.head())\n",
    "\n",
    "df.to_csv('movie_info.csv', index=False, encoding=\"utf-8\")\n"
   ]
  },
  {
   "cell_type": "code",
   "execution_count": null,
   "metadata": {},
   "outputs": [],
   "source": [
    "omdb_api_key = \"b2050bec\"\n",
    "df = pd.read_csv('main_movie_info.csv')\n",
    "\n",
    "#function to use OMDB\n",
    "def get_omdb_info(title, year):\n",
    "  url = f\"http://www.omdbapi.com/?t={title}&y={year}&apikey={omdb_api_key}\"\n",
    "  response = requests.get(url)\n",
    "  if response.status_code == 200:\n",
    "        data = response.json()\n",
    "        if data.get(\"Response\") == \"True\":\n",
    "            return {\n",
    "                \"genre\": data.get(\"Genre\", \"\"),\n",
    "                \"runtime\": data.get(\"Runtime\", \"\"),\n",
    "                \"imdb_rating\": data.get(\"imdbRating\", \"\")\n",
    "            }\n",
    "  return None\n",
    "\n",
    "# Ensure the columns exist\n",
    "for col in [\"genre\", \"runtime\", \"imdb_rating\"]:\n",
    "    if col not in df.columns:\n",
    "        df[col] = \"\"\n",
    "\n",
    "for idx, row in df.iterrows():\n",
    "    result = get_omdb_info(row[\"title\"], row[\"year\"])\n",
    "    if result:\n",
    "        df.at[idx, \"genre\"] = result[\"genre\"]\n",
    "        df.at[idx, \"runtime\"] = result[\"runtime\"]\n",
    "        df.at[idx, \"imdb_rating\"] = result[\"imdb_rating\"]\n",
    "        print(f\"{row['title']} updated.\")\n",
    "    else:\n",
    "        print(f\"{row['title']} not found.\")\n",
    "    \n",
    "    time.sleep(0.3)  # OMDb free tier allows 1 request/second max\n"
   ]
  },
  {
   "cell_type": "code",
   "execution_count": 67,
   "metadata": {},
   "outputs": [],
   "source": [
    "df.to_csv('main_movie_info.csv', index=False)"
   ]
  }
 ],
 "metadata": {
  "kernelspec": {
   "display_name": "Python 3",
   "language": "python",
   "name": "python3"
  },
  "language_info": {
   "codemirror_mode": {
    "name": "ipython",
    "version": 3
   },
   "file_extension": ".py",
   "mimetype": "text/x-python",
   "name": "python",
   "nbconvert_exporter": "python",
   "pygments_lexer": "ipython3",
   "version": "3.13.5"
  },
  "orig_nbformat": 4
 },
 "nbformat": 4,
 "nbformat_minor": 2
}
